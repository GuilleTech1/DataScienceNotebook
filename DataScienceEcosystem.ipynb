{
 "cells": [
  {
   "cell_type": "markdown",
   "id": "2f8ee28b-e0bc-4413-be1b-0eb288e9f6f1",
   "metadata": {},
   "source": [
    "# Data Science Tools and Ecosystem\n"
   ]
  },
  {
   "cell_type": "markdown",
   "id": "0fdb797d-25c3-4354-8a74-15534cb7477a",
   "metadata": {},
   "source": [
    "En este cuaderno, se exploran las principales herramientas y ecosistemas utilizados en la ciencia de datos."
   ]
  },
  {
   "cell_type": "markdown",
   "id": "b5ca733b-87f0-4812-a463-6351e240850f",
   "metadata": {},
   "source": [
    "**Objetivos:**\n",
    "\n",
    "- Listar lenguajes populares para Ciencia de Datos.\n",
    "- Identificar bibliotecas comúnmente utilizadas en Ciencia de Datos.\n",
    "- Explorar herramientas de código abierto para entornos de desarrollo.\n",
    "- Realizar operaciones aritméticas básicas en Python.\n",
    "- Convertir unidades de tiempo utilizando código."
   ]
  },
  {
   "cell_type": "markdown",
   "id": "02917bea-9293-4bff-9f71-24ce512227a5",
   "metadata": {},
   "source": [
    "Algunos de los lenguajes populares que utilizan los científicos de datos son:\n",
    "\n",
    "1. Python\n",
    "2. R\n",
    "3. SQL\n",
    "4. Julia"
   ]
  },
  {
   "cell_type": "markdown",
   "id": "6c4b30e3-4746-4c12-b01f-35ae9baafcec",
   "metadata": {},
   "source": [
    "# Algunas de las bibliotecas comúnmente utilizadas por los científicos de datos incluyen:\n",
    "\n",
    "NumPy\n",
    "\n",
    "\n",
    "Pandas\n",
    "\n",
    "\n",
    "Matplotlib\n",
    "\n",
    "\n",
    "Scikit-learn\n",
    "\n",
    "\n",
    "TensorFlow"
   ]
  },
  {
   "cell_type": "markdown",
   "id": "e99f985c-0197-48c4-bce7-e1d615b294d7",
   "metadata": {},
   "source": [
    "| Herramientas de Ciencia de Datos |\n",
    "|---------------------------------|\n",
    "| Jupyter Notebook                |\n",
    "| RStudio                        |\n",
    "| Apache Zeppelin                |"
   ]
  },
  {
   "cell_type": "markdown",
   "id": "6333161c-872a-4ba0-af29-29f4242972c3",
   "metadata": {},
   "source": [
    "### A continuación, se presentan algunos ejemplos de evaluación de expresiones aritméticas en Python."
   ]
  },
  {
   "cell_type": "code",
   "execution_count": 4,
   "id": "484161fa-c89d-4fcd-a12c-f0fbd999f882",
   "metadata": {},
   "outputs": [
    {
     "data": {
      "text/plain": [
       "17"
      ]
     },
     "execution_count": 4,
     "metadata": {},
     "output_type": "execute_result"
    }
   ],
   "source": [
    "# Esta es una expresión aritmética simple para multiplicar y luego sumar enteros\n",
    "(3 * 4) + 5"
   ]
  },
  {
   "cell_type": "code",
   "execution_count": 5,
   "id": "1022dd9a-653c-4278-b23f-291984f481c4",
   "metadata": {},
   "outputs": [
    {
     "data": {
      "text/plain": [
       "3.3333333333333335"
      ]
     },
     "execution_count": 5,
     "metadata": {},
     "output_type": "execute_result"
    }
   ],
   "source": [
    "# Esto convertirá 200 minutos a horas dividiendo por 60\n",
    "200 / 60"
   ]
  },
  {
   "cell_type": "markdown",
   "id": "0a531902-bbf4-4dd6-be95-a62982fde28f",
   "metadata": {},
   "source": [
    "## Autor\n",
    "\n",
    "[Guillermo Montiveros]"
   ]
  },
  {
   "cell_type": "code",
   "execution_count": null,
   "id": "b5271349-3599-436d-a3da-a0efbe61bfc7",
   "metadata": {},
   "outputs": [],
   "source": []
  }
 ],
 "metadata": {
  "kernelspec": {
   "display_name": "Python 3 (ipykernel)",
   "language": "python",
   "name": "python3"
  },
  "language_info": {
   "codemirror_mode": {
    "name": "ipython",
    "version": 3
   },
   "file_extension": ".py",
   "mimetype": "text/x-python",
   "name": "python",
   "nbconvert_exporter": "python",
   "pygments_lexer": "ipython3",
   "version": "3.12.5"
  }
 },
 "nbformat": 4,
 "nbformat_minor": 5
}
